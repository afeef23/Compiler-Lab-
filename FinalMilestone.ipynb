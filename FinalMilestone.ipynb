{
  "nbformat": 4,
  "nbformat_minor": 0,
  "metadata": {
    "colab": {
      "provenance": []
    },
    "kernelspec": {
      "name": "python3",
      "display_name": "Python 3"
    },
    "language_info": {
      "name": "python"
    },
    "widgets": {
      "application/vnd.jupyter.widget-state+json": {
        "67588d633c64464aaeabb39fdd033a32": {
          "model_module": "@jupyter-widgets/controls",
          "model_name": "TextareaModel",
          "model_module_version": "1.5.0",
          "state": {
            "_dom_classes": [],
            "_model_module": "@jupyter-widgets/controls",
            "_model_module_version": "1.5.0",
            "_model_name": "TextareaModel",
            "_view_count": null,
            "_view_module": "@jupyter-widgets/controls",
            "_view_module_version": "1.5.0",
            "_view_name": "TextareaView",
            "continuous_update": true,
            "description": "",
            "description_tooltip": null,
            "disabled": false,
            "layout": "IPY_MODEL_eb8180355df341609f84fec881049e31",
            "placeholder": "Write your code here...",
            "rows": null,
            "style": "IPY_MODEL_91b3af0968384430a7c8825abd8d2f6c",
            "value": "(5 + 3) * (10 / 2)"
          }
        },
        "eb8180355df341609f84fec881049e31": {
          "model_module": "@jupyter-widgets/base",
          "model_name": "LayoutModel",
          "model_module_version": "1.2.0",
          "state": {
            "_model_module": "@jupyter-widgets/base",
            "_model_module_version": "1.2.0",
            "_model_name": "LayoutModel",
            "_view_count": null,
            "_view_module": "@jupyter-widgets/base",
            "_view_module_version": "1.2.0",
            "_view_name": "LayoutView",
            "align_content": null,
            "align_items": null,
            "align_self": null,
            "border": null,
            "bottom": null,
            "display": null,
            "flex": null,
            "flex_flow": null,
            "grid_area": null,
            "grid_auto_columns": null,
            "grid_auto_flow": null,
            "grid_auto_rows": null,
            "grid_column": null,
            "grid_gap": null,
            "grid_row": null,
            "grid_template_areas": null,
            "grid_template_columns": null,
            "grid_template_rows": null,
            "height": "200px",
            "justify_content": null,
            "justify_items": null,
            "left": null,
            "margin": null,
            "max_height": null,
            "max_width": null,
            "min_height": null,
            "min_width": null,
            "object_fit": null,
            "object_position": null,
            "order": null,
            "overflow": null,
            "overflow_x": null,
            "overflow_y": null,
            "padding": null,
            "right": null,
            "top": null,
            "visibility": null,
            "width": "50%"
          }
        },
        "91b3af0968384430a7c8825abd8d2f6c": {
          "model_module": "@jupyter-widgets/controls",
          "model_name": "DescriptionStyleModel",
          "model_module_version": "1.5.0",
          "state": {
            "_model_module": "@jupyter-widgets/controls",
            "_model_module_version": "1.5.0",
            "_model_name": "DescriptionStyleModel",
            "_view_count": null,
            "_view_module": "@jupyter-widgets/base",
            "_view_module_version": "1.2.0",
            "_view_name": "StyleView",
            "description_width": ""
          }
        },
        "1bfc62940a5045b3adaaad3196ec6541": {
          "model_module": "@jupyter-widgets/controls",
          "model_name": "ButtonModel",
          "model_module_version": "1.5.0",
          "state": {
            "_dom_classes": [],
            "_model_module": "@jupyter-widgets/controls",
            "_model_module_version": "1.5.0",
            "_model_name": "ButtonModel",
            "_view_count": null,
            "_view_module": "@jupyter-widgets/controls",
            "_view_module_version": "1.5.0",
            "_view_name": "ButtonView",
            "button_style": "",
            "description": "Check Syntax",
            "disabled": false,
            "icon": "",
            "layout": "IPY_MODEL_3dfc797f002542bdbb251caf4cd92abc",
            "style": "IPY_MODEL_cad325038f714546ad72875242e0f659",
            "tooltip": ""
          }
        },
        "3dfc797f002542bdbb251caf4cd92abc": {
          "model_module": "@jupyter-widgets/base",
          "model_name": "LayoutModel",
          "model_module_version": "1.2.0",
          "state": {
            "_model_module": "@jupyter-widgets/base",
            "_model_module_version": "1.2.0",
            "_model_name": "LayoutModel",
            "_view_count": null,
            "_view_module": "@jupyter-widgets/base",
            "_view_module_version": "1.2.0",
            "_view_name": "LayoutView",
            "align_content": null,
            "align_items": null,
            "align_self": null,
            "border": null,
            "bottom": null,
            "display": null,
            "flex": null,
            "flex_flow": null,
            "grid_area": null,
            "grid_auto_columns": null,
            "grid_auto_flow": null,
            "grid_auto_rows": null,
            "grid_column": null,
            "grid_gap": null,
            "grid_row": null,
            "grid_template_areas": null,
            "grid_template_columns": null,
            "grid_template_rows": null,
            "height": null,
            "justify_content": null,
            "justify_items": null,
            "left": null,
            "margin": null,
            "max_height": null,
            "max_width": null,
            "min_height": null,
            "min_width": null,
            "object_fit": null,
            "object_position": null,
            "order": null,
            "overflow": null,
            "overflow_x": null,
            "overflow_y": null,
            "padding": null,
            "right": null,
            "top": null,
            "visibility": null,
            "width": null
          }
        },
        "cad325038f714546ad72875242e0f659": {
          "model_module": "@jupyter-widgets/controls",
          "model_name": "ButtonStyleModel",
          "model_module_version": "1.5.0",
          "state": {
            "_model_module": "@jupyter-widgets/controls",
            "_model_module_version": "1.5.0",
            "_model_name": "ButtonStyleModel",
            "_view_count": null,
            "_view_module": "@jupyter-widgets/base",
            "_view_module_version": "1.2.0",
            "_view_name": "StyleView",
            "button_color": null,
            "font_weight": ""
          }
        },
        "97231a2ab7b04a3e8c20da4001382c2d": {
          "model_module": "@jupyter-widgets/controls",
          "model_name": "ButtonModel",
          "model_module_version": "1.5.0",
          "state": {
            "_dom_classes": [],
            "_model_module": "@jupyter-widgets/controls",
            "_model_module_version": "1.5.0",
            "_model_name": "ButtonModel",
            "_view_count": null,
            "_view_module": "@jupyter-widgets/controls",
            "_view_module_version": "1.5.0",
            "_view_name": "ButtonView",
            "button_style": "",
            "description": "Execute",
            "disabled": false,
            "icon": "",
            "layout": "IPY_MODEL_a1ca590c471d41c89eb9538448c098bb",
            "style": "IPY_MODEL_a71ea2d269bb46359b3cf55f1b855777",
            "tooltip": ""
          }
        },
        "a1ca590c471d41c89eb9538448c098bb": {
          "model_module": "@jupyter-widgets/base",
          "model_name": "LayoutModel",
          "model_module_version": "1.2.0",
          "state": {
            "_model_module": "@jupyter-widgets/base",
            "_model_module_version": "1.2.0",
            "_model_name": "LayoutModel",
            "_view_count": null,
            "_view_module": "@jupyter-widgets/base",
            "_view_module_version": "1.2.0",
            "_view_name": "LayoutView",
            "align_content": null,
            "align_items": null,
            "align_self": null,
            "border": null,
            "bottom": null,
            "display": null,
            "flex": null,
            "flex_flow": null,
            "grid_area": null,
            "grid_auto_columns": null,
            "grid_auto_flow": null,
            "grid_auto_rows": null,
            "grid_column": null,
            "grid_gap": null,
            "grid_row": null,
            "grid_template_areas": null,
            "grid_template_columns": null,
            "grid_template_rows": null,
            "height": null,
            "justify_content": null,
            "justify_items": null,
            "left": null,
            "margin": null,
            "max_height": null,
            "max_width": null,
            "min_height": null,
            "min_width": null,
            "object_fit": null,
            "object_position": null,
            "order": null,
            "overflow": null,
            "overflow_x": null,
            "overflow_y": null,
            "padding": null,
            "right": null,
            "top": null,
            "visibility": null,
            "width": null
          }
        },
        "a71ea2d269bb46359b3cf55f1b855777": {
          "model_module": "@jupyter-widgets/controls",
          "model_name": "ButtonStyleModel",
          "model_module_version": "1.5.0",
          "state": {
            "_model_module": "@jupyter-widgets/controls",
            "_model_module_version": "1.5.0",
            "_model_name": "ButtonStyleModel",
            "_view_count": null,
            "_view_module": "@jupyter-widgets/base",
            "_view_module_version": "1.2.0",
            "_view_name": "StyleView",
            "button_color": null,
            "font_weight": ""
          }
        },
        "2c73790aeecd4b3ab1f3c71de6a6aa75": {
          "model_module": "@jupyter-widgets/controls",
          "model_name": "TextareaModel",
          "model_module_version": "1.5.0",
          "state": {
            "_dom_classes": [],
            "_model_module": "@jupyter-widgets/controls",
            "_model_module_version": "1.5.0",
            "_model_name": "TextareaModel",
            "_view_count": null,
            "_view_module": "@jupyter-widgets/controls",
            "_view_module_version": "1.5.0",
            "_view_name": "TextareaView",
            "continuous_update": true,
            "description": "",
            "description_tooltip": null,
            "disabled": false,
            "layout": "IPY_MODEL_064dae00bbcf4e519142e2b5069e6b71",
            "placeholder": "Error log...",
            "rows": null,
            "style": "IPY_MODEL_d432ebea08f94765814d8e2c7220aef2",
            "value": "Result: 40.0"
          }
        },
        "064dae00bbcf4e519142e2b5069e6b71": {
          "model_module": "@jupyter-widgets/base",
          "model_name": "LayoutModel",
          "model_module_version": "1.2.0",
          "state": {
            "_model_module": "@jupyter-widgets/base",
            "_model_module_version": "1.2.0",
            "_model_name": "LayoutModel",
            "_view_count": null,
            "_view_module": "@jupyter-widgets/base",
            "_view_module_version": "1.2.0",
            "_view_name": "LayoutView",
            "align_content": null,
            "align_items": null,
            "align_self": null,
            "border": null,
            "bottom": null,
            "display": null,
            "flex": null,
            "flex_flow": null,
            "grid_area": null,
            "grid_auto_columns": null,
            "grid_auto_flow": null,
            "grid_auto_rows": null,
            "grid_column": null,
            "grid_gap": null,
            "grid_row": null,
            "grid_template_areas": null,
            "grid_template_columns": null,
            "grid_template_rows": null,
            "height": "100px",
            "justify_content": null,
            "justify_items": null,
            "left": null,
            "margin": null,
            "max_height": null,
            "max_width": null,
            "min_height": null,
            "min_width": null,
            "object_fit": null,
            "object_position": null,
            "order": null,
            "overflow": null,
            "overflow_x": null,
            "overflow_y": null,
            "padding": null,
            "right": null,
            "top": null,
            "visibility": null,
            "width": "50%"
          }
        },
        "d432ebea08f94765814d8e2c7220aef2": {
          "model_module": "@jupyter-widgets/controls",
          "model_name": "DescriptionStyleModel",
          "model_module_version": "1.5.0",
          "state": {
            "_model_module": "@jupyter-widgets/controls",
            "_model_module_version": "1.5.0",
            "_model_name": "DescriptionStyleModel",
            "_view_count": null,
            "_view_module": "@jupyter-widgets/base",
            "_view_module_version": "1.2.0",
            "_view_name": "StyleView",
            "description_width": ""
          }
        }
      }
    }
  },
  "cells": [
    {
      "cell_type": "code",
      "execution_count": 1,
      "metadata": {
        "colab": {
          "base_uri": "https://localhost:8080/"
        },
        "id": "gZ12s96aLY30",
        "outputId": "1a26da87-203c-4c42-93d2-ff0b0eaa02a6"
      },
      "outputs": [
        {
          "output_type": "stream",
          "name": "stdout",
          "text": [
            "Tokens: ['(', '5', '+', '3', ')', '*', '(', '10', '/', '2', ')']\n"
          ]
        }
      ],
      "source": [
        "import re\n",
        "\n",
        "class LexicalAnalyzer:\n",
        "    def __init__(self):\n",
        "        self.token_pattern = re.compile(r'\\d+\\.?\\d*|[+\\-*/()]')\n",
        "\n",
        "    def tokenize(self, text):\n",
        "        tokens = self.token_pattern.findall(text)\n",
        "        # Remove whitespace tokens\n",
        "        tokens = [token for token in tokens if token.strip()]\n",
        "        return tokens\n",
        "\n",
        "# Test the Lexical Analyzer\n",
        "lexer = LexicalAnalyzer()\n",
        "tokens = lexer.tokenize(\"(5 + 3) * (10 / 2)\")\n",
        "print(\"Tokens:\", tokens)"
      ]
    },
    {
      "cell_type": "code",
      "source": [
        "class ArithmeticParser:\n",
        "    def __init__(self):\n",
        "        self.tokens = []\n",
        "        self.current_token_index = 0\n",
        "\n",
        "    def parse_input(self, text):\n",
        "        self.tokens = LexicalAnalyzer().tokenize(text)\n",
        "        self.current_token_index = 0\n",
        "        result = self.expression()\n",
        "        if self.current_token_index != len(self.tokens):\n",
        "            raise ValueError(\"Invalid expression.\")\n",
        "        return result\n",
        "\n",
        "    def expression(self):\n",
        "        return self.addition()\n",
        "\n",
        "    def addition(self):\n",
        "        result = self.multiplication()\n",
        "        while self.match('+') or self.match('-'):\n",
        "            operator = self.tokens[self.current_token_index - 1]\n",
        "            right = self.multiplication()\n",
        "            if operator == '+':\n",
        "                result += right\n",
        "            else:\n",
        "                result -= right\n",
        "        return result\n",
        "\n",
        "    def multiplication(self):\n",
        "        result = self.primary()\n",
        "        while self.match('*') or self.match('/'):\n",
        "            operator = self.tokens[self.current_token_index - 1]\n",
        "            right = self.primary()\n",
        "            if operator == '*':\n",
        "                result *= right\n",
        "            else:\n",
        "                if right == 0:\n",
        "                    raise ValueError(\"Division by zero.\")\n",
        "                # Ensure result is treated as a float\n",
        "                result = float(result) / right\n",
        "        return result\n",
        "\n",
        "    def primary(self):\n",
        "        token = self.tokens[self.current_token_index]\n",
        "        self.current_token_index += 1\n",
        "        if token == '(':\n",
        "            result = self.expression()\n",
        "            if self.tokens[self.current_token_index] == ')':\n",
        "                self.current_token_index += 1\n",
        "                return result\n",
        "            else:\n",
        "                raise ValueError(\"Expected closing parenthesis.\")\n",
        "        elif re.match(r'\\d+\\.?\\d*', token):\n",
        "            return float(token)\n",
        "        else:\n",
        "            raise ValueError(\"Invalid expression.\")\n",
        "\n",
        "    def match(self, token_type):\n",
        "        if self.current_token_index < len(self.tokens) and self.tokens[self.current_token_index] == token_type:\n",
        "            self.current_token_index += 1\n",
        "            return True\n",
        "        return False\n",
        "\n",
        "# Test the Parser\n",
        "parser = ArithmeticParser()\n",
        "result = parser.parse_input(\"(5 + 3) * (10 / 2)\")\n",
        "print(\"Result:\", result)"
      ],
      "metadata": {
        "colab": {
          "base_uri": "https://localhost:8080/"
        },
        "id": "aKijDSjaLbXX",
        "outputId": "95ba23f0-c611-4856-b67a-074bdbbe9dab"
      },
      "execution_count": 2,
      "outputs": [
        {
          "output_type": "stream",
          "name": "stdout",
          "text": [
            "Result: 40.0\n"
          ]
        }
      ]
    },
    {
      "cell_type": "code",
      "source": [
        "import re\n",
        "import ipywidgets as widgets\n",
        "from IPython.display import display, HTML\n",
        "\n",
        "# Function to check syntax errors\n",
        "def check_syntax(code):\n",
        "    syntax_errors = []\n",
        "    # Regular expression to find common syntax errors\n",
        "    syntax_patterns = [\n",
        "        (r'\\bfor\\b.*\\bin\\b', \"Use 'in' instead of 'in'\"),\n",
        "        (r'\\bif\\b.*?:', \"Missing colon after 'if' statement\"),\n",
        "        (r':\\n\\s*\\n', \"Remove extra empty lines after colon\"),\n",
        "        # Add more syntax patterns as needed\n",
        "    ]\n",
        "    for pattern, error_msg in syntax_patterns:\n",
        "        if re.search(pattern, code):\n",
        "            syntax_errors.append(error_msg)\n",
        "    return syntax_errors\n",
        "\n",
        "# Function to execute the code\n",
        "def execute_code(code):\n",
        "    try:\n",
        "        result = eval(code)\n",
        "        return result\n",
        "    except Exception as e:\n",
        "        return str(e)\n",
        "\n",
        "# Event handler for check syntax button\n",
        "def on_check_syntax_button_clicked(b):\n",
        "    syntax_errors = check_syntax(text_box.value)\n",
        "    if syntax_errors:\n",
        "        error_logger.value = \"\\n\".join(syntax_errors)\n",
        "    else:\n",
        "        error_logger.value = \"No syntax errors found.\"\n",
        "\n",
        "# Event handler for execute button\n",
        "def on_execute_button_clicked(b):\n",
        "    result = execute_code(text_box.value)\n",
        "    if isinstance(result, str):\n",
        "        error_logger.value = result\n",
        "    else:\n",
        "        error_logger.value = \"Result: \" + str(result)\n",
        "\n",
        "# Text box for writing code\n",
        "text_box = widgets.Textarea(\n",
        "    placeholder='Write your code here...',\n",
        "    layout=widgets.Layout(width='50%', height='200px')\n",
        ")\n",
        "\n",
        "# Check syntax button\n",
        "check_syntax_button = widgets.Button(description='Check Syntax')\n",
        "check_syntax_button.on_click(on_check_syntax_button_clicked)\n",
        "\n",
        "# Execute button\n",
        "execute_button = widgets.Button(description='Execute')\n",
        "execute_button.on_click(on_execute_button_clicked)\n",
        "\n",
        "# Error logger\n",
        "error_logger = widgets.Textarea(\n",
        "    placeholder='Error log...',\n",
        "    layout=widgets.Layout(width='50%', height='100px')\n",
        ")\n",
        "\n",
        "# Display widgets\n",
        "display(text_box)\n",
        "display(check_syntax_button)\n",
        "display(execute_button)\n",
        "display(error_logger)\n"
      ],
      "metadata": {
        "colab": {
          "base_uri": "https://localhost:8080/",
          "height": 389,
          "referenced_widgets": [
            "67588d633c64464aaeabb39fdd033a32",
            "eb8180355df341609f84fec881049e31",
            "91b3af0968384430a7c8825abd8d2f6c",
            "1bfc62940a5045b3adaaad3196ec6541",
            "3dfc797f002542bdbb251caf4cd92abc",
            "cad325038f714546ad72875242e0f659",
            "97231a2ab7b04a3e8c20da4001382c2d",
            "a1ca590c471d41c89eb9538448c098bb",
            "a71ea2d269bb46359b3cf55f1b855777",
            "2c73790aeecd4b3ab1f3c71de6a6aa75",
            "064dae00bbcf4e519142e2b5069e6b71",
            "d432ebea08f94765814d8e2c7220aef2"
          ]
        },
        "id": "8g_pL1TmLiHz",
        "outputId": "a8b878a4-8e70-4c44-e9ea-0262da8cdb0a"
      },
      "execution_count": 4,
      "outputs": [
        {
          "output_type": "display_data",
          "data": {
            "text/plain": [
              "Textarea(value='', layout=Layout(height='200px', width='50%'), placeholder='Write your code here...')"
            ],
            "application/vnd.jupyter.widget-view+json": {
              "version_major": 2,
              "version_minor": 0,
              "model_id": "67588d633c64464aaeabb39fdd033a32"
            }
          },
          "metadata": {}
        },
        {
          "output_type": "display_data",
          "data": {
            "text/plain": [
              "Button(description='Check Syntax', style=ButtonStyle())"
            ],
            "application/vnd.jupyter.widget-view+json": {
              "version_major": 2,
              "version_minor": 0,
              "model_id": "1bfc62940a5045b3adaaad3196ec6541"
            }
          },
          "metadata": {}
        },
        {
          "output_type": "display_data",
          "data": {
            "text/plain": [
              "Button(description='Execute', style=ButtonStyle())"
            ],
            "application/vnd.jupyter.widget-view+json": {
              "version_major": 2,
              "version_minor": 0,
              "model_id": "97231a2ab7b04a3e8c20da4001382c2d"
            }
          },
          "metadata": {}
        },
        {
          "output_type": "display_data",
          "data": {
            "text/plain": [
              "Textarea(value='', layout=Layout(height='100px', width='50%'), placeholder='Error log...')"
            ],
            "application/vnd.jupyter.widget-view+json": {
              "version_major": 2,
              "version_minor": 0,
              "model_id": "2c73790aeecd4b3ab1f3c71de6a6aa75"
            }
          },
          "metadata": {}
        }
      ]
    },
    {
      "cell_type": "code",
      "source": [],
      "metadata": {
        "id": "b9fk4g5vLmTd"
      },
      "execution_count": null,
      "outputs": []
    }
  ]
}