{
  "nbformat": 4,
  "nbformat_minor": 0,
  "metadata": {
    "colab": {
      "provenance": []
    },
    "kernelspec": {
      "name": "python3",
      "display_name": "Python 3"
    },
    "language_info": {
      "name": "python"
    }
  },
  "cells": [
    {
      "cell_type": "code",
      "source": [
        "import re\n",
        "\n",
        "class ArithmeticParser:\n",
        "    def __init__(self):\n",
        "        self.token_pattern = re.compile(r'\\d+\\.?\\d*|[+/*()-]')\n",
        "\n",
        "    def tokenize(self, text):\n",
        "        tokens = self.token_pattern.findall(text)\n",
        "        for char in text:\n",
        "            if char not in {' ', '\\t'} and char not in '0123456789+-*/().':\n",
        "                print(\"Invalid character detected.\")\n",
        "        return tokens\n",
        "\n",
        "    def validate_tokens(self, tokens):\n",
        "        valid_tokens = set('0123456789+-*/().')\n",
        "        for token in tokens:\n",
        "            if token not in valid_tokens:\n",
        "                print(\"Invalid token detected.\")\n",
        "        return tokens\n",
        "\n",
        "    def parse_input(self):\n",
        "        try:\n",
        "            input_expr = input(\"Enter an arithmetic expression: \")\n",
        "            tokens = self.tokenize(input_expr)\n",
        "            tokens = self.validate_tokens(tokens)\n",
        "            print(\"Tokens:\", tokens)\n",
        "        except ValueError as e:\n",
        "            print(\"Error:\", e)\n",
        "\n",
        "parser = ArithmeticParser()\n",
        "parser.parse_input()\n"
      ],
      "metadata": {
        "colab": {
          "base_uri": "https://localhost:8080/"
        },
        "id": "qS2P6RTlxvEc",
        "outputId": "90b3f90b-d2be-4aa1-b710-7e7b32d89b4e"
      },
      "execution_count": 30,
      "outputs": [
        {
          "output_type": "stream",
          "name": "stdout",
          "text": [
            "Enter an arithmetic expression: a+b = 3\n",
            "Error: Invalid character detected.\n"
          ]
        }
      ]
    },
    {
      "cell_type": "code",
      "source": [
        "import re\n",
        "\n",
        "class ArithmeticParser:\n",
        "    def __init__(self):\n",
        "        self.token_pattern = re.compile(r'\\d+\\.?\\d*|[+*/()-]')\n",
        "\n",
        "    def tokenize(self, text):\n",
        "        tokens = self.token_pattern.findall(text)\n",
        "        for char in text:\n",
        "            if char not in {' ', '\\t'} and char not in '0123456789+-*/().':\n",
        "                print(\"Invalid character detected.\")\n",
        "        return tokens\n",
        "\n",
        "    def validate_tokens(self, tokens):\n",
        "        valid_tokens = set('0123456789+-*/().')\n",
        "        for token in tokens:\n",
        "            if token not in valid_tokens:\n",
        "                print(\"Invalid token detected.\")\n",
        "        return tokens\n",
        "\n",
        "    def parse_input(self):\n",
        "        try:\n",
        "            input_expr = input(\"Enter an arithmetic expression: \")\n",
        "            tokens = self.tokenize(input_expr)\n",
        "            tokens = self.validate_tokens(tokens)\n",
        "            self.check_grammar(tokens)\n",
        "            print(\"Tokens:\", tokens)\n",
        "        except ValueError as e:\n",
        "            print(\"Error:\", e)\n",
        "\n",
        "    def check_grammar(self, tokens):\n",
        "\n",
        "        for i in range(len(tokens) - 1):\n",
        "            if tokens[i] in \"+*/\" and tokens[i + 1] in \"+*/\":\n",
        "                print(\"Invalid expression: Adjacent operators.\")\n",
        "            if tokens[i] == ')' and tokens[i + 1] == '(':\n",
        "                print(\"Invalid expression: Adjacent parentheses.\")\n",
        "\n",
        "        open_count = tokens.count('(')\n",
        "        close_count = tokens.count(')')\n",
        "        if open_count != close_count:\n",
        "            print(\"Invalid expression: Unbalanced parentheses.\")\n",
        "\n",
        "\n",
        "        if tokens[0] in \"+*/\":\n",
        "            print(\"Invalid expression: Expression cannot start with an operator.\")\n",
        "        if tokens[-1] in \"+-*/\":\n",
        "            print(\"Invalid expression: Expression cannot end with an operator.\")\n",
        "\n",
        "        # Check for division by zero\n",
        "        for i in range(len(tokens) - 1):\n",
        "            if tokens[i] == '/' and tokens[i + 1] == '0':\n",
        "                print(\"Invalid expression: Division by zero.\")\n",
        "\n",
        "parser = ArithmeticParser()\n",
        "parser.parse_input()\n"
      ],
      "metadata": {
        "colab": {
          "base_uri": "https://localhost:8080/"
        },
        "id": "GWDytWGSyAvr",
        "outputId": "63b77562-0444-4a05-8c2f-0cebd054747b"
      },
      "execution_count": 36,
      "outputs": [
        {
          "output_type": "stream",
          "name": "stdout",
          "text": [
            "Enter an arithmetic expression: 5 + 3 = 4\n",
            "Invalid character detected.\n",
            "Tokens: ['5', '+', '3', '4']\n"
          ]
        }
      ]
    },
    {
      "cell_type": "code",
      "source": [],
      "metadata": {
        "id": "N1GaOOMD10v6"
      },
      "execution_count": null,
      "outputs": []
    }
  ]
}