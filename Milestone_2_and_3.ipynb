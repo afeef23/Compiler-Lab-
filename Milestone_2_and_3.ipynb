{
  "nbformat": 4,
  "nbformat_minor": 0,
  "metadata": {
    "colab": {
      "provenance": []
    },
    "kernelspec": {
      "name": "python3",
      "display_name": "Python 3"
    },
    "language_info": {
      "name": "python"
    }
  },
  "cells": [
    {
      "cell_type": "code",
      "source": [
        "import re\n",
        "\n",
        "class LexicalAnalyzer:\n",
        "    def __init__(self):\n",
        "        self.token_pattern = re.compile(r'\\d+\\.?\\d*|[+\\-*/()]')\n",
        "\n",
        "    def tokenize(self, text):\n",
        "        tokens = self.token_pattern.findall(text)\n",
        "        # Remove whitespace tokens\n",
        "        tokens = [token for token in tokens if token.strip()]\n",
        "        return tokens\n",
        "\n",
        "# Test the Lexical Analyzer\n",
        "lexer = LexicalAnalyzer()\n",
        "tokens = lexer.tokenize(\"(5 + 3) * (10 / 2)\")\n",
        "print(\"Tokens:\", tokens)\n"
      ],
      "metadata": {
        "colab": {
          "base_uri": "https://localhost:8080/"
        },
        "id": "vPAAfueTrg6E",
        "outputId": "91dd2648-c858-4703-c987-cf840e020b67"
      },
      "execution_count": 18,
      "outputs": [
        {
          "output_type": "stream",
          "name": "stdout",
          "text": [
            "Tokens: ['(', '5', '+', '3', ')', '*', '(', '10', '/', '2', ')']\n"
          ]
        }
      ]
    },
    {
      "cell_type": "code",
      "source": [
        "class ArithmeticParser:\n",
        "    def __init__(self):\n",
        "        self.tokens = []\n",
        "        self.current_token_index = 0\n",
        "\n",
        "    def parse_input(self, text):\n",
        "        self.tokens = LexicalAnalyzer().tokenize(text)\n",
        "        self.current_token_index = 0\n",
        "        result = self.expression()\n",
        "        if self.current_token_index != len(self.tokens):\n",
        "            raise ValueError(\"Invalid expression.\")\n",
        "        return result\n",
        "\n",
        "    def expression(self):\n",
        "        return self.addition()\n",
        "\n",
        "    def addition(self):\n",
        "        result = self.multiplication()\n",
        "        while self.match('+') or self.match('-'):\n",
        "            operator = self.tokens[self.current_token_index - 1]\n",
        "            right = self.multiplication()\n",
        "            if operator == '+':\n",
        "                result += right\n",
        "            else:\n",
        "                result -= right\n",
        "        return result\n",
        "\n",
        "    def multiplication(self):\n",
        "        result = self.primary()\n",
        "        while self.match('*') or self.match('/'):\n",
        "            operator = self.tokens[self.current_token_index - 1]\n",
        "            right = self.primary()\n",
        "            if operator == '*':\n",
        "                result *= right\n",
        "            else:\n",
        "                if right == 0:\n",
        "                    raise ValueError(\"Division by zero.\")\n",
        "                # Ensure result is treated as a float\n",
        "                result = float(result) / right\n",
        "        return result\n",
        "\n",
        "    def primary(self):\n",
        "        token = self.tokens[self.current_token_index]\n",
        "        self.current_token_index += 1\n",
        "        if token == '(':\n",
        "            result = self.expression()\n",
        "            if self.tokens[self.current_token_index] == ')':\n",
        "                self.current_token_index += 1\n",
        "                return result\n",
        "            else:\n",
        "                raise ValueError(\"Expected closing parenthesis.\")\n",
        "        elif re.match(r'\\d+\\.?\\d*', token):\n",
        "            return float(token)\n",
        "        else:\n",
        "            raise ValueError(\"Invalid expression.\")\n",
        "\n",
        "    def match(self, token_type):\n",
        "        if self.current_token_index < len(self.tokens) and self.tokens[self.current_token_index] == token_type:\n",
        "            self.current_token_index += 1\n",
        "            return True\n",
        "        return False\n",
        "\n",
        "# Test the Parser\n",
        "parser = ArithmeticParser()\n",
        "result = parser.parse_input(\"(5 + 3) * (10 / 2)\")\n",
        "print(\"Result:\", result)\n"
      ],
      "metadata": {
        "colab": {
          "base_uri": "https://localhost:8080/"
        },
        "id": "cBQKFMSquz0j",
        "outputId": "8c9aae7f-14b9-44d7-af70-fc9585e45a43"
      },
      "execution_count": 22,
      "outputs": [
        {
          "output_type": "stream",
          "name": "stdout",
          "text": [
            "Result: 40.0\n"
          ]
        }
      ]
    },
    {
      "cell_type": "code",
      "source": [],
      "metadata": {
        "id": "f9F45kdNvzbT"
      },
      "execution_count": null,
      "outputs": []
    }
  ]
}